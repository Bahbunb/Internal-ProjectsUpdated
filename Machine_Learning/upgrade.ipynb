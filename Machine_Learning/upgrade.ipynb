{
 "cells": [
  {
   "cell_type": "markdown",
   "metadata": {},
   "source": [
    "import libraries"
   ]
  },
  {
   "cell_type": "code",
   "execution_count": 9,
   "metadata": {},
   "outputs": [],
   "source": [
    "import warnings\n",
    "\n",
    "warnings.filterwarnings(\"ignore\")\n",
    "\n",
    "import pandas as pd\n",
    "import numpy as np\n",
    "from sklearn.preprocessing import StandardScaler, LabelEncoder\n",
    "from sklearn.model_selection import train_test_split\n",
    "from sklearn.tree import DecisionTreeRegressor\n",
    "from sklearn.metrics import mean_squared_error, mean_absolute_error, r2_score\n",
    "from sklearn.model_selection import GridSearchCV\n",
    "from time import time\n",
    "from sklearn.tree import export_graphviz\n",
    "import graphviz\n",
    "import joblib\n",
    "import os"
   ]
  },
  {
   "cell_type": "code",
   "execution_count": 10,
   "metadata": {},
   "outputs": [
    {
     "name": "stdout",
     "output_type": "stream",
     "text": [
      "        month        town flat_type block_no  storey_range  floor_area_sqm  \\\n",
      "0  2017-01-01  ang mo kio    2 ROOM      406            11            44.0   \n",
      "1  2017-01-01  ang mo kio    3 ROOM      108             2            67.0   \n",
      "2  2017-01-01  ang mo kio    3 ROOM      602             2            67.0   \n",
      "3  2017-01-01  ang mo kio    3 ROOM      465             5            68.0   \n",
      "4  2017-01-01  ang mo kio    3 ROOM      601             2            67.0   \n",
      "\n",
      "       flat_model lease_commence_date     remaining_lease  resale_price  ...  \\\n",
      "0        Improved          1979-01-01  61 years 04 months      232000.0  ...   \n",
      "1  New Generation          1978-01-01  60 years 07 months      250000.0  ...   \n",
      "2  New Generation          1980-01-01  62 years 05 months      262000.0  ...   \n",
      "3  New Generation          1980-01-01   62 years 01 month      265000.0  ...   \n",
      "4  New Generation          1980-01-01  62 years 05 months      265000.0  ...   \n",
      "\n",
      "   latitude   longitude           street_name postal_code nearest_mrt_station  \\\n",
      "0  1.362005  103.853880  ANG MO KIO AVENUE 10      560406          Ang Mo Kio   \n",
      "1  1.370966  103.838202   ANG MO KIO AVENUE 4      560108          Ang Mo Kio   \n",
      "2  1.380709  103.835368   ANG MO KIO AVENUE 5      560602        Yio Chu Kang   \n",
      "3  1.366201  103.857201  ANG MO KIO AVENUE 10      560465          Ang Mo Kio   \n",
      "4  1.381041  103.835132   ANG MO KIO AVENUE 5      560601        Yio Chu Kang   \n",
      "\n",
      "  nearest_mrt_distance_km                   nearest_mall  \\\n",
      "0                1.011433                        AMK Hub   \n",
      "1                1.270031                 Broadway Plaza   \n",
      "2                1.068607                 Broadway Plaza   \n",
      "3                0.947097  myVillage At Serangoon Garden   \n",
      "4                1.091392                 Broadway Plaza   \n",
      "\n",
      "  nearest_mall_distance_km  min_dist_to_cbd  remaining_year  \n",
      "0                 1.006211         8.237451              61  \n",
      "1                 0.867977         9.353331              60  \n",
      "2                 1.528020        10.474170              62  \n",
      "3                 0.892903         8.721598              62  \n",
      "4                 1.571900        10.515177              62  \n",
      "\n",
      "[5 rows x 21 columns]\n"
     ]
    }
   ],
   "source": [
    "df = pd.read_csv(\"/Users/supimraid/Desktop/DAC INTERNAL/Internal-ProjectsUpdated/Datasets/merged_df.csv\", low_memory=False)\n",
    "\n",
    "\n",
    "print(df.head())"
   ]
  },
  {
   "cell_type": "markdown",
   "metadata": {},
   "source": [
    "categorizing the data"
   ]
  },
  {
   "cell_type": "code",
   "execution_count": 11,
   "metadata": {},
   "outputs": [],
   "source": [
    "categorical_cols = [\n",
    "    \"town\",\n",
    "    \"flat_type\",\n",
    "    \"storey_range\",\n",
    "    \"flat_model\",\n",
    "    \"street_name\",\n",
    "    \"nearest_mrt_station\",\n",
    "    \"nearest_mall\",\n",
    "]\n",
    "\n",
    "label_encoders = {}\n",
    "for col in categorical_cols:\n",
    "    label_encoders[col] = LabelEncoder()\n",
    "    df[col] = label_encoders[col].fit_transform(df[col])\n",
    "\n",
    "# Convert datetime columns to Unix timestamps (seconds since epoch)\n",
    "# This standardizes the date format and makes it usable for the model\n"
   ]
  },
  {
   "cell_type": "code",
   "execution_count": 12,
   "metadata": {},
   "outputs": [
    {
     "name": "stdout",
     "output_type": "stream",
     "text": [
      "   town  flat_type  storey_range  floor_area_sqm  flat_model  \\\n",
      "0     0          1             3            44.0           5   \n",
      "1     0          2             0            67.0          12   \n",
      "2     0          2             0            67.0          12   \n",
      "3     0          2             1            68.0          12   \n",
      "4     0          2             0            67.0          12   \n",
      "\n",
      "   lease_commence_date  latitude   longitude  street_name  \\\n",
      "0            283996800  1.362005  103.853880           13   \n",
      "1            252460800  1.370966  103.838202           16   \n",
      "2            315532800  1.380709  103.835368           17   \n",
      "3            315532800  1.366201  103.857201           13   \n",
      "4            315532800  1.381041  103.835132           17   \n",
      "\n",
      "   nearest_mrt_station  nearest_mrt_distance_km  nearest_mall  \\\n",
      "0                    1                 1.011433             2   \n",
      "1                    1                 1.270031            11   \n",
      "2                  120                 1.068607            11   \n",
      "3                    1                 0.947097           113   \n",
      "4                  120                 1.091392            11   \n",
      "\n",
      "   nearest_mall_distance_km  min_dist_to_cbd  remaining_year  \n",
      "0                  1.006211         8.237451              61  \n",
      "1                  0.867977         9.353331              60  \n",
      "2                  1.528020        10.474170              62  \n",
      "3                  0.892903         8.721598              62  \n",
      "4                  1.571900        10.515177              62  \n"
     ]
    }
   ],
   "source": [
    "df[\"lease_commence_date\"] = (\n",
    "    pd.to_datetime(df[\"lease_commence_date\"]).astype(np.int64) // 10**9\n",
    ")\n",
    "\n",
    "X = df.drop(\n",
    "    [\"resale_price\", \"month\", \"address\", \"postal_code\", \"block_no\", \"remaining_lease\"],\n",
    "    axis=1,\n",
    ")\n",
    "y = df[\"resale_price\"]\n",
    "\n",
    "print(X.head())"
   ]
  },
  {
   "cell_type": "code",
   "execution_count": 13,
   "metadata": {},
   "outputs": [
    {
     "name": "stdout",
     "output_type": "stream",
     "text": [
      "         0         1         2         3         4         5         6   \\\n",
      "0 -1.765066 -2.305364  0.377999 -2.205395 -1.007286 -1.214336 -0.141272   \n",
      "1 -1.765066 -1.218420 -1.137970 -1.248992  0.931604 -1.285075  0.067823   \n",
      "2 -1.765066 -1.218420 -1.137970 -1.248992  0.931604 -1.143598  0.295133   \n",
      "3 -1.765066 -1.218420 -0.632647 -1.207409  0.931604 -1.143598 -0.043360   \n",
      "4 -1.765066 -1.218420 -1.137970 -1.248992  0.931604 -1.143598  0.302891   \n",
      "\n",
      "         7         8         9         10        11        12        13  \\\n",
      "0  0.176576 -1.573809 -1.711319  0.806775 -1.649323  0.880677 -0.889921   \n",
      "1 -0.044069 -1.556499 -1.711319  1.409240 -1.381704  0.518500 -0.633896   \n",
      "2 -0.083949 -1.550729  1.384552  0.939975 -1.381704  2.247837 -0.376732   \n",
      "3  0.223315 -1.573809 -1.711319  0.656890  1.651304  0.583806 -0.778839   \n",
      "4 -0.087277 -1.550729  1.384552  0.993059 -1.381704  2.362805 -0.367324   \n",
      "\n",
      "         14  \n",
      "0 -0.928129  \n",
      "1 -0.999336  \n",
      "2 -0.856923  \n",
      "3 -0.856923  \n",
      "4 -0.856923  \n"
     ]
    }
   ],
   "source": [
    "# Normalizing the encoded data\n",
    "scaler = StandardScaler()\n",
    "X = scaler.fit_transform(X)\n",
    "\n",
    "test_dataframe = pd.DataFrame(X)\n",
    "\n",
    "print(test_dataframe.head())\n",
    "\n",
    "# test and train split\n",
    "X_train, X_test, y_train, y_test = train_test_split(\n",
    "    X, y, test_size=0.1, random_state=42\n",
    ")\n",
    "\n",
    "# Decision Tree Regressor\n",
    "dtr = DecisionTreeRegressor()\n",
    "\n",
    "# hyperparameters\n",
    "param_grid = {\n",
    "    \"max_depth\": [2, 5, 10, 15, 20, 22],\n",
    "    \"min_samples_split\": [2, 3, 4, 5],\n",
    "    \"min_samples_leaf\": [2, 3, 4, 5, 6, 7, 8, 9, 10, 15, 20],\n",
    "    \"max_features\": [\"auto\", \"sqrt\", \"log2\"],\n",
    "}"
   ]
  },
  {
   "cell_type": "code",
   "execution_count": 14,
   "metadata": {},
   "outputs": [
    {
     "name": "stdout",
     "output_type": "stream",
     "text": [
      "\n",
      "Starting Grid Search...\n",
      "\n",
      "Grid Search completed in 51.56 seconds\n"
     ]
    }
   ],
   "source": [
    "# gridsearchcv\n",
    "print(\"\\nStarting Grid Search...\")\n",
    "start_time = time()\n",
    "\n",
    "# Add scoring metrics to track\n",
    "scoring = {\"r2\": \"r2\", \"neg_mean_squared_error\": \"neg_mean_squared_error\"}\n",
    "grid_search = GridSearchCV(\n",
    "    estimator=dtr,\n",
    "    param_grid=param_grid,\n",
    "    cv=5, #5-fold cross-validation\n",
    "    scoring=scoring,\n",
    "    refit=\"r2\", #only use r2 score for best model\n",
    "    verbose=0,  # Change to 0 to minimize output\n",
    "    n_jobs=-1,\n",
    ")\n",
    "\n",
    "grid_search.fit(X_train, y_train)\n",
    "\n",
    "# Print only the essential information\n",
    "print(f\"\\nGrid Search completed in {(time() - start_time):.2f} seconds\")"
   ]
  },
  {
   "cell_type": "code",
   "execution_count": 15,
   "metadata": {},
   "outputs": [
    {
     "name": "stdout",
     "output_type": "stream",
     "text": [
      "\n",
      "Grid Search Results:\n",
      "\n",
      "Error Metrics:\n",
      "Mean squared error: $2,540,968,383.80\n",
      "Mean Absolute Error: $35,690.48\n",
      "Root Mean squared error: $50,408.02\n",
      "Mean Absolute Percentage Error: 7.20%\n",
      "R-squared: 0.9203\n"
     ]
    }
   ],
   "source": [
    "# Print detailed results\n",
    "print(\"\\nGrid Search Results:\")\n",
    "best_model = grid_search.best_estimator_\n",
    "y_pred = best_model.predict(X_test)\n",
    "\n",
    "# evalution metrics\n",
    "mse = mean_squared_error(y_test, y_pred)\n",
    "mae = mean_absolute_error(y_test, y_pred)\n",
    "rmse = np.sqrt(mse)\n",
    "r2 = r2_score(y_test, y_pred)\n",
    "\n",
    "# Calculate percentage errors\n",
    "mape = np.mean(np.abs((y_test - y_pred) / y_test)) * 100\n",
    "\n",
    "print(\"\\nError Metrics:\")\n",
    "print(f\"Mean squared error: ${mse:,.2f}\")\n",
    "print(f\"Mean Absolute Error: ${mae:,.2f}\")\n",
    "print(f\"Root Mean squared error: ${rmse:,.2f}\")\n",
    "print(f\"Mean Absolute Percentage Error: {mape:.2f}%\")\n",
    "print(f\"R-squared: {r2:.4f}\")"
   ]
  },
  {
   "cell_type": "markdown",
   "metadata": {},
   "source": [
    "Saves the best model to use for predicting values"
   ]
  },
  {
   "cell_type": "code",
   "execution_count": 16,
   "metadata": {},
   "outputs": [
    {
     "name": "stdout",
     "output_type": "stream",
     "text": [
      "\n",
      "Saving model and preprocessing components...\n",
      "\n",
      "Model and preprocessing components saved successfully!\n",
      "\n",
      "Decision tree visualization has been saved as 'decision_tree_visualization.pdf'\n"
     ]
    }
   ],
   "source": [
    "# Save the best model and preprocessing components\n",
    "print(\"\\nSaving model and preprocessing components...\")\n",
    "model_dir = \"../model/\"\n",
    "os.makedirs(model_dir, exist_ok=True)\n",
    "\n",
    "# Save the model\n",
    "joblib.dump(best_model, f\"{model_dir}best_model.joblib\")\n",
    "\n",
    "# Save the preprocessing components\n",
    "joblib.dump(label_encoders, f\"{model_dir}label_encoders.joblib\")\n",
    "joblib.dump(scaler, f\"{model_dir}scaler.joblib\")\n",
    "joblib.dump(categorical_cols, f\"{model_dir}categorical_cols.joblib\")\n",
    "\n",
    "# Create and save a list of feature names in correct order\n",
    "feature_names = (\n",
    "    X.columns\n",
    "    if isinstance(X, pd.DataFrame)\n",
    "    else df.drop(\n",
    "        [\n",
    "            \"resale_price\",\n",
    "            \"month\",\n",
    "            \"address\",\n",
    "            \"postal_code\",\n",
    "            \"block_no\",\n",
    "            \"remaining_lease\",\n",
    "        ],\n",
    "        axis=1,\n",
    "    ).columns\n",
    ")\n",
    "joblib.dump(feature_names, f\"{model_dir}feature_names.joblib\")\n",
    "\n",
    "\n",
    "print(\"\\nModel and preprocessing components saved successfully!\")\n",
    "\n",
    "# Plot the decision tree\n",
    "# Create dot data\n",
    "dot_data = export_graphviz(\n",
    "    best_model,\n",
    "    out_file=None,\n",
    "    feature_names=df.drop(\n",
    "        [\n",
    "            \"resale_price\",\n",
    "            \"month\",\n",
    "            \"address\",\n",
    "            \"postal_code\",\n",
    "            \"block_no\",\n",
    "            \"remaining_lease\",\n",
    "        ],\n",
    "        axis=1,\n",
    "    ).columns,\n",
    "    filled=True,\n",
    "    rounded=True,\n",
    "    special_characters=True,\n",
    "    max_depth=3,  # Limit depth for visibility\n",
    ")\n",
    "\n",
    "# Create and save the graph\n",
    "graph = graphviz.Source(dot_data)\n",
    "graph.render(\n",
    "    \"decision_tree_visualization\",\n",
    "    directory=model_dir,\n",
    "    format=\"pdf\",\n",
    "    cleanup=True,\n",
    ")\n",
    "print(\n",
    "    \"\\nDecision tree visualization has been saved as 'decision_tree_visualization.pdf'\"\n",
    ")"
   ]
  }
 ],
 "metadata": {
  "kernelspec": {
   "display_name": ".venv",
   "language": "python",
   "name": "python3"
  },
  "language_info": {
   "codemirror_mode": {
    "name": "ipython",
    "version": 3
   },
   "file_extension": ".py",
   "mimetype": "text/x-python",
   "name": "python",
   "nbconvert_exporter": "python",
   "pygments_lexer": "ipython3",
   "version": "3.9.6"
  }
 },
 "nbformat": 4,
 "nbformat_minor": 2
}
